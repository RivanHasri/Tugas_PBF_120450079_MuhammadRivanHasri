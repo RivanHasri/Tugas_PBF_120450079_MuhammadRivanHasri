{
 "cells": [
  {
   "cell_type": "markdown",
   "id": "ec851c48",
   "metadata": {},
   "source": [
    "# Iterative Solution"
   ]
  },
  {
   "cell_type": "markdown",
   "id": "f4ca21d6",
   "metadata": {},
   "source": [
    "Solusi iteratif artinya kita tidak menggunakan paradigma recursive ataupun functional, kita hanya perlu menggunakan perulangan dan sebuah array.\n",
    "\n",
    "Seperti yang kita ketahui dari definisi Fibonacci, deret pertama dan kedua adalah 1 dan 0. Oleh karena itu, kita bisa menyimpannya dalam sebuah array sebagai pre-computed sequence."
   ]
  },
  {
   "cell_type": "code",
   "execution_count": 1,
   "id": "f6870cc7",
   "metadata": {},
   "outputs": [
    {
     "name": "stdout",
     "output_type": "stream",
     "text": [
      "[0, 1, 1, 2, 3, 5, 8, 13, 21, 34, 55, 89, 144, 233, 377, 610, 987, 1597, 2584, 4181, 6765, 10946, 17711, 28657, 46368, 75025, 121393, 196418, 317811, 514229, 832040]\n"
     ]
    }
   ],
   "source": [
    "def iterative_fibo(n):\n",
    "    computed = [0,1]\n",
    "    for i in range(2,n+1):\n",
    "        next_num = computed[i-1] + computed[i-2]\n",
    "        computed.append(next_num)\n",
    "    return computed\n",
    "\n",
    "sequences = iterative_fibo(30)\n",
    "print(sequences)"
   ]
  },
  {
   "cell_type": "markdown",
   "id": "b2380bbc",
   "metadata": {},
   "source": [
    "# Recursive Solution "
   ]
  },
  {
   "cell_type": "markdown",
   "id": "c2687b42",
   "metadata": {},
   "source": [
    "Jika kita lihat lagi rumus Fiboncacci, kita bisa melihat bahwa rumus tersebut adalah rekursif secara alami.\n",
    "\n",
    "Dalam kasus rekursif terdapat 2 hal, yaitu base condition (terminate condition) dan recurrence condition.\n",
    "\n",
    "1. Base condition atau terminate condition adalah sebuah kondisi yang bertugas untuk memberhentikan proses pemanggilan.\n",
    "2. Recurrence condition adalah sebuah kondisi untuk melakukan pemanggilan hingga menemukan terminate solution."
   ]
  },
  {
   "cell_type": "code",
   "execution_count": 3,
   "id": "5fd434b7",
   "metadata": {},
   "outputs": [
    {
     "name": "stdout",
     "output_type": "stream",
     "text": [
      "[0, 1, 1, 2, 3, 5, 8, 13, 21, 34, 55, 89, 144, 233, 377, 610, 987, 1597, 2584, 4181, 6765, 10946, 17711, 28657, 46368, 75025, 121393, 196418, 317811, 514229, 832040]\n"
     ]
    }
   ],
   "source": [
    "def recursive_fibonacci(n):\n",
    "    if n <= 1:\n",
    "        return n\n",
    "    \n",
    "    next_num = recursive_fibonacci(n-1) + recursive_fibonacci(n-2);\n",
    "    return next_num\n",
    "\n",
    "def recursive_fibonacci_ntimes(n):\n",
    "    sequences = []\n",
    "    \n",
    "    for i in range(0, n+1):\n",
    "        next_num = recursive_fibonacci(i)\n",
    "        sequences.append(next_num)\n",
    "    \n",
    "    return sequences\n",
    "\n",
    "sequences = recursive_fibonacci_ntimes(30)\n",
    "print(sequences)"
   ]
  },
  {
   "cell_type": "markdown",
   "id": "46e6a177",
   "metadata": {},
   "source": [
    "# Which Better? "
   ]
  },
  {
   "cell_type": "markdown",
   "id": "1fe95d4c",
   "metadata": {},
   "source": [
    "Secara kompleksitas, recursive lebih lambat dibanding iterative (non-recursive).\n",
    "\n",
    "Mengapa demikian?\n",
    "\n",
    "Meskipun, pendekatan recursive terlihat jauh lebih sederhana akan tetapi ada hal serius yang perlu diperhatikan, yaitu recursive menghitung bilangan Fibonacci beberapa kali dibandingkan iterative."
   ]
  }
 ],
 "metadata": {
  "kernelspec": {
   "display_name": "Python 3",
   "language": "python",
   "name": "python3"
  },
  "language_info": {
   "codemirror_mode": {
    "name": "ipython",
    "version": 3
   },
   "file_extension": ".py",
   "mimetype": "text/x-python",
   "name": "python",
   "nbconvert_exporter": "python",
   "pygments_lexer": "ipython3",
   "version": "3.8.8"
  },
  "varInspector": {
   "cols": {
    "lenName": 16,
    "lenType": 16,
    "lenVar": 40
   },
   "kernels_config": {
    "python": {
     "delete_cmd_postfix": "",
     "delete_cmd_prefix": "del ",
     "library": "var_list.py",
     "varRefreshCmd": "print(var_dic_list())"
    },
    "r": {
     "delete_cmd_postfix": ") ",
     "delete_cmd_prefix": "rm(",
     "library": "var_list.r",
     "varRefreshCmd": "cat(var_dic_list()) "
    }
   },
   "types_to_exclude": [
    "module",
    "function",
    "builtin_function_or_method",
    "instance",
    "_Feature"
   ],
   "window_display": false
  }
 },
 "nbformat": 4,
 "nbformat_minor": 5
}
