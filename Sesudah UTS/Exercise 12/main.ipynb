{
 "cells": [
  {
   "cell_type": "markdown",
   "id": "d827b0a6",
   "metadata": {},
   "source": [
    "# Nomor 1 "
   ]
  },
  {
   "cell_type": "code",
   "execution_count": 5,
   "id": "ff623771",
   "metadata": {},
   "outputs": [
    {
     "name": "stdout",
     "output_type": "stream",
     "text": [
      "[16, 3.0, 22, 4.0]\n",
      "[5, 6, 7, 8]\n"
     ]
    }
   ],
   "source": [
    "# pure function\n",
    "def fungsiku(L):\n",
    "    def check_genap(l):\n",
    "        return l % 2 == 0\n",
    "    return list(map(lambda x: x/2 if check_genap(x) else x*n+1, L))\n",
    "\n",
    "n = 3\n",
    "L = [5,6,7,8]\n",
    "\n",
    "print(fungsiku(L))\n",
    "print(L)"
   ]
  },
  {
   "cell_type": "markdown",
   "id": "e7f6bd20",
   "metadata": {},
   "source": [
    "# Nomor 2 "
   ]
  },
  {
   "cell_type": "code",
   "execution_count": 6,
   "id": "478f5056",
   "metadata": {},
   "outputs": [
    {
     "name": "stdout",
     "output_type": "stream",
     "text": [
      "[16, 3.0, 22, 25]\n",
      "[5, 6, 7, 8]\n"
     ]
    }
   ],
   "source": [
    "# pure function\n",
    "def fungsiku2(L):\n",
    "    def check_faktor(l):\n",
    "        return l % n == 0\n",
    "    return list(map(lambda x: x/2 if check_faktor(x) else x*n+1, L))\n",
    "\n",
    "n = 3\n",
    "L = [5,6,7,8]\n",
    "print(fungsiku2(L))\n",
    "print(L)"
   ]
  },
  {
   "cell_type": "markdown",
   "id": "f93d9d20",
   "metadata": {},
   "source": [
    "# Nomor 3 "
   ]
  },
  {
   "cell_type": "code",
   "execution_count": 4,
   "id": "b2ffa18c",
   "metadata": {},
   "outputs": [],
   "source": [
    "tup = ([3,4,5],'myname')"
   ]
  },
  {
   "cell_type": "markdown",
   "id": "8885157c",
   "metadata": {},
   "source": [
    "Tuple bersifat immutable, artinya tidak dapat diubah. Namun, pada kasus di atas untuk elemen listnya dapat kita ubah sedangkan untuk list nya sendiri tidak dapat kita ubah. Begitu pula untuk 'myname' tidak dapat kita ubah."
   ]
  }
 ],
 "metadata": {
  "kernelspec": {
   "display_name": "Python 3",
   "language": "python",
   "name": "python3"
  },
  "language_info": {
   "codemirror_mode": {
    "name": "ipython",
    "version": 3
   },
   "file_extension": ".py",
   "mimetype": "text/x-python",
   "name": "python",
   "nbconvert_exporter": "python",
   "pygments_lexer": "ipython3",
   "version": "3.8.8"
  },
  "varInspector": {
   "cols": {
    "lenName": 16,
    "lenType": 16,
    "lenVar": 40
   },
   "kernels_config": {
    "python": {
     "delete_cmd_postfix": "",
     "delete_cmd_prefix": "del ",
     "library": "var_list.py",
     "varRefreshCmd": "print(var_dic_list())"
    },
    "r": {
     "delete_cmd_postfix": ") ",
     "delete_cmd_prefix": "rm(",
     "library": "var_list.r",
     "varRefreshCmd": "cat(var_dic_list()) "
    }
   },
   "types_to_exclude": [
    "module",
    "function",
    "builtin_function_or_method",
    "instance",
    "_Feature"
   ],
   "window_display": false
  }
 },
 "nbformat": 4,
 "nbformat_minor": 5
}
